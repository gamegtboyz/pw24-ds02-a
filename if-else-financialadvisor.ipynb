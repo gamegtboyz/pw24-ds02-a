{
 "cells": [
  {
   "cell_type": "markdown",
   "metadata": {},
   "source": [
    "This Notebook involved using python's if-else statements to control the processing flow.\n",
    "In this case, we will go through the case of personal financial advisor.\n",
    "\n",
    "In this case, we will gather the user's information as follows:\n",
    " - Number of Dependents (integer)\n",
    " - Amount of Savings (numeric)\n",
    " - Income (numerinc)\n",
    " - Steadiness of Income (boolean)\n",
    "\n",
    "Then, we will use those input to clacualte the following variables:\n",
    " - ThresholdSavings = Number of Dependents * 3000\n",
    " - ThresholdIncome = 9000 + (Number of Dependence * 2500)\n",
    "\n",
    "Then, we will use those variables to check the Adequecies of Savings and Income by:\n",
    " - IF Amount of Savings >= ThresholdSavings THEN SavingsAdequate = True\n",
    " - IF Steadiness of Income = True AND Income >= ThresholdIncome THEN IncomeAdequate = True\n",
    "\n",
    "Then, we will return the recommendations, which is investment portfolio:\n",
    " - IF SavingsAdequate == False THEN \"Savings\"\n",
    " - IF SavingsAdequate == True THEN:\n",
    "    - IF IncomeAdequate == True THEN \"Stocks\"\n",
    "    - IF IncomeAdequate == False THEN \"Mixture\""
   ]
  },
  {
   "cell_type": "code",
   "execution_count": 4,
   "metadata": {},
   "outputs": [
    {
     "name": "stdout",
     "output_type": "stream",
     "text": [
      "Number of Dependents: 3\n",
      "Amount Saved: 10000\n",
      "Income: 5000\n",
      "Steadiness of income: True\n"
     ]
    }
   ],
   "source": [
    "# gather the information\n",
    "NoOfDependents = int(input(\"Please specify the number of your dependencies: \"))\n",
    "AmountSaved = 10000\n",
    "Income = 5000\n",
    "IncomeSteady = input(\"Is your income steady? (yes/no): \")\n",
    "if IncomeSteady == 'yes':\n",
    "    IncomeSteady = True\n",
    "else:\n",
    "    IncomeSteady = False\n",
    "\n",
    "print('Number of Dependents: ' + str(NoOfDependents))\n",
    "print('Amount Saved: ' + str(AmountSaved))\n",
    "print('Income: ' + str(Income))\n",
    "print('Steadiness of income: ' + str(IncomeSteady))"
   ]
  },
  {
   "cell_type": "code",
   "execution_count": 6,
   "metadata": {},
   "outputs": [
    {
     "name": "stdout",
     "output_type": "stream",
     "text": [
      "Savings Treshold: 9000\n",
      "Income Treshold: 16500\n"
     ]
    }
   ],
   "source": [
    "# define the amount of savings threshold and income threshold\n",
    "ThresholdSavings = NoOfDependents * 3000\n",
    "ThresholdIncome = 9000 + (NoOfDependents * 2500)\n",
    "\n",
    "print('Savings Treshold: ' + str(ThresholdSavings))\n",
    "print('Income Treshold: ' + str(ThresholdIncome))"
   ]
  },
  {
   "cell_type": "code",
   "execution_count": 7,
   "metadata": {},
   "outputs": [
    {
     "name": "stdout",
     "output_type": "stream",
     "text": [
      "Saving Adequecies: True\n",
      "Income Adequecies: False\n"
     ]
    }
   ],
   "source": [
    "# checking adequecies\n",
    "if AmountSaved >= ThresholdSavings:\n",
    "    SavingsAdequate = True\n",
    "else:\n",
    "    SavingsAdequate = False\n",
    "\n",
    "if IncomeSteady == True and Income >= ThresholdIncome:\n",
    "    IncomeAdequate = True\n",
    "else:\n",
    "    IncomeAdequate = False\n",
    "\n",
    "print('Saving Adequecies: ' + str(SavingsAdequate))\n",
    "print('Income Adequecies: ' + str(IncomeAdequate))"
   ]
  },
  {
   "cell_type": "code",
   "execution_count": 13,
   "metadata": {},
   "outputs": [
    {
     "name": "stdout",
     "output_type": "stream",
     "text": [
      "Your recommendation is just mix it. It's fine.\n"
     ]
    }
   ],
   "source": [
    "# give a financial advice\n",
    "if (SavingsAdequate) == False:\n",
    "    recommendation = 'please save some money.'\n",
    "else:\n",
    "    if (IncomeAdequate == True):\n",
    "        recommendation = 'go with the stocks.'\n",
    "    else:\n",
    "        recommendation = 'just mix it. It\\'s fine.'\n",
    "\n",
    "print('Your recommendation is ' + str(recommendation))"
   ]
  }
 ],
 "metadata": {
  "kernelspec": {
   "display_name": "Python 3",
   "language": "python",
   "name": "python3"
  },
  "language_info": {
   "codemirror_mode": {
    "name": "ipython",
    "version": 3
   },
   "file_extension": ".py",
   "mimetype": "text/x-python",
   "name": "python",
   "nbconvert_exporter": "python",
   "pygments_lexer": "ipython3",
   "version": "3.13.0"
  }
 },
 "nbformat": 4,
 "nbformat_minor": 2
}
